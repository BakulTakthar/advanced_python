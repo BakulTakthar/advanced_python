{
 "cells": [
  {
   "cell_type": "markdown",
   "metadata": {},
   "source": [
    "# lambda x:\n",
    "\n",
    "### __lambda__ keyword is used to define a one line function in python for the commands or works that are too short or do not require the complexity of def function"
   ]
  },
  {
   "cell_type": "markdown",
   "metadata": {},
   "source": [
    "example - lets say you need to add 1 to some variable having an integer or a float value"
   ]
  },
  {
   "cell_type": "code",
   "execution_count": 1,
   "metadata": {},
   "outputs": [
    {
     "name": "stdout",
     "output_type": "stream",
     "text": [
      "57\n"
     ]
    }
   ],
   "source": [
    "var = 56\n",
    "print(var + 1)\n"
   ]
  },
  {
   "cell_type": "code",
   "execution_count": 3,
   "metadata": {},
   "outputs": [
    {
     "name": "stdout",
     "output_type": "stream",
     "text": [
      "55\n"
     ]
    }
   ],
   "source": [
    "var = 54\n",
    "\n",
    "var_new = var + 1\n",
    "\n",
    "print(var_new)\n"
   ]
  },
  {
   "cell_type": "code",
   "execution_count": 4,
   "metadata": {},
   "outputs": [
    {
     "name": "stdout",
     "output_type": "stream",
     "text": [
      "46\n"
     ]
    }
   ],
   "source": [
    "def add_one(var):\n",
    "    return var + 1\n",
    "\n",
    "\n",
    "print(add_one(45))\n"
   ]
  },
  {
   "cell_type": "code",
   "execution_count": 14,
   "metadata": {},
   "outputs": [
    {
     "name": "stdout",
     "output_type": "stream",
     "text": [
      "256\n",
      "222337020242360576812569226538683753874082408437758291741262115823894811650848346334502642370010973465496690788650052277723\n"
     ]
    }
   ],
   "source": [
    "var = lambda x: x**x\n",
    "\n",
    "print(var(4))\n",
    "\n",
    "marks = var(67)\n",
    "print(marks)\n"
   ]
  },
  {
   "cell_type": "markdown",
   "metadata": {},
   "source": [
    "for small things like these you can employ a lambda insted of a def or another method"
   ]
  },
  {
   "cell_type": "markdown",
   "metadata": {},
   "source": [
    "- lambda, brings the major benefits of def without being def \n",
    "- lambda, is easy to write\n",
    "- lambda, unlike def is a little easier on the computer\n",
    "- lamnda, saves lines of codes\n",
    "- lambda, is lambda"
   ]
  },
  {
   "cell_type": "markdown",
   "metadata": {},
   "source": [
    "## using if in lambda()\n",
    "\n",
    "lambda x: x if x>90 else None"
   ]
  },
  {
   "cell_type": "markdown",
   "metadata": {},
   "source": []
  }
 ],
 "metadata": {
  "kernelspec": {
   "display_name": "base",
   "language": "python",
   "name": "python3"
  },
  "language_info": {
   "codemirror_mode": {
    "name": "ipython",
    "version": 3
   },
   "file_extension": ".py",
   "mimetype": "text/x-python",
   "name": "python",
   "nbconvert_exporter": "python",
   "pygments_lexer": "ipython3",
   "version": "3.11.5"
  }
 },
 "nbformat": 4,
 "nbformat_minor": 2
}
