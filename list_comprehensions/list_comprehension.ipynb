{
 "cells": [
  {
   "cell_type": "markdown",
   "metadata": {},
   "source": [
    "# List Comprehension in Python\n",
    "## List Comprehension refers to the act of passing some instructions into a list and changing its state (__contents__)\n",
    "\n",
    "## why use list comprehension in the first place?\n"
   ]
  },
  {
   "cell_type": "markdown",
   "metadata": {},
   "source": [
    "task_1 = create a list of all the values which _do not_ end with the letter a from the following dictionary\n",
    "\n",
    "\n",
    "dict = {\n",
    "    \"Narendra Modi\" : \"India\",\n",
    "    \"Joe Biden\" : \"United States of America\",\n",
    "    \"Rishi Sunak\" : \"United Kingdom\",\n",
    "    \"Emmanuel Macron\" : \"French\",\n",
    "    \"Justin Trudeau\" : \"Canada\"\n",
    "    \"Li Qiang (Premier)\":\"China\",\n",
    "    \"Anthony Albanese\":\"Australia\",\n",
    "    \"Olaf Scholz\":\"Germany\",\n",
    "    \"Fumio Kishida\" : \"Japan\",\n",
    "    \"Mohammed bin Salman\" : \"Saudi Arabia\",\n",
    "    \"Sheikh Hasina\" : \"Bangladesh\",\n",
    "    \"Cyril Ramaphosa\" : \"South Africa\",\n",
    "    \"Recep Tayyip Erdoğan\" : \"Turkey\",\n",
    "    \"Alberto Ángel Fernández\" : \"Argentina\",\n",
    "    \"Bola Ahmed Adekunle Tinubu\" : \"Nigeria\", \n",
    "    \"Yoon Suk-yeol\" : \"South Korea\"\n",
    "}"
   ]
  },
  {
   "cell_type": "markdown",
   "metadata": {},
   "source": [
    "# Without comprehension"
   ]
  },
  {
   "cell_type": "code",
   "execution_count": 10,
   "metadata": {},
   "outputs": [
    {
     "name": "stdout",
     "output_type": "stream",
     "text": [
      "['United Kingdom', 'French', 'Germany', 'Japan', 'Bangladesh', 'Turkey']\n"
     ]
    }
   ],
   "source": [
    "dict = {\n",
    "    \"Narendra Modi\": \"India\",\n",
    "    \"Joe Biden\": \"United States of America\",\n",
    "    \"Rishi Sunak\": \"United Kingdom\",\n",
    "    \"Emmanuel Macron\": \"French\",\n",
    "    \"Justin Trudeau\": \"Canada\",\n",
    "    \"Li Qiang (Premier)\": \"China\",\n",
    "    \"Anthony Albanese\": \"Australia\",\n",
    "    \"Olaf Scholz\": \"Germany\",\n",
    "    \"Fumio Kishida\": \"Japan\",\n",
    "    \"Mohammed bin Salman\": \"Saudi Arabia\",\n",
    "    \"Sheikh Hasina\": \"Bangladesh\",\n",
    "    \"Cyril Ramaphosa\": \"South Africa\",\n",
    "    \"Recep Tayyip Erdoğan\": \"Turkey\",\n",
    "    \"Alberto Ángel Fernández\": \"Argentina\",\n",
    "    \"Bola Ahmed Adekunle Tinubu\": \"Nigeria\",\n",
    "    \"Yoon Suk-yeol\": \"South Korea\",\n",
    "}\n",
    "\n",
    "list = []\n",
    "\n",
    "\n",
    "\n",
    "for i in dict:\n",
    "\n",
    "\n",
    "    if dict[i][-1].upper() != \"A\":\n",
    "\n",
    "\n",
    "        list.append(dict[i])\n",
    "\n",
    "\n",
    "\n",
    "print(list)\n"
   ]
  },
  {
   "cell_type": "markdown",
   "metadata": {},
   "source": [
    "# With Comprehension"
   ]
  },
  {
   "cell_type": "code",
   "execution_count": 1,
   "metadata": {},
   "outputs": [
    {
     "name": "stdout",
     "output_type": "stream",
     "text": [
      "['United Kingdom', 'French', 'Germany', 'Japan', 'Bangladesh', 'Turkey']\n"
     ]
    }
   ],
   "source": [
    "dict = {\n",
    "    \"Narendra Modi\": \"India\",\n",
    "    \"Joe Biden\": \"United States of America\",\n",
    "    \"Rishi Sunak\": \"United Kingdom\",\n",
    "    \"Emmanuel Macron\": \"French\",\n",
    "    \"Justin Trudeau\": \"Canada\",\n",
    "    \"Li Qiang (Premier)\": \"China\",\n",
    "    \"Anthony Albanese\": \"Australia\",\n",
    "    \"Olaf Scholz\": \"Germany\",\n",
    "    \"Fumio Kishida\": \"Japan\",\n",
    "    \"Mohammed bin Salman\": \"Saudi Arabia\",\n",
    "    \"Sheikh Hasina\": \"Bangladesh\",\n",
    "    \"Cyril Ramaphosa\": \"South Africa\",\n",
    "    \"Recep Tayyip Erdoğan\": \"Turkey\",\n",
    "    \"Alberto Ángel Fernández\": \"Argentina\",\n",
    "    \"Bola Ahmed Adekunle Tinubu\": \"Nigeria\",\n",
    "    \"Yoon Suk-yeol\": \"South Korea\",\n",
    "}\n",
    "\n",
    "list = [dict[i] for i in dict if dict[i][-1].upper() != \"A\"]\n",
    "print(list)\n"
   ]
  },
  {
   "cell_type": "code",
   "execution_count": 3,
   "metadata": {},
   "outputs": [
    {
     "name": "stdout",
     "output_type": "stream",
     "text": [
      "[0, 1, 2, 3, 4, 5, 6, 7, 8, 9, 10]\n"
     ]
    }
   ],
   "source": [
    "print([i for i in range(0, 11)])\n"
   ]
  }
 ],
 "metadata": {
  "kernelspec": {
   "display_name": "base",
   "language": "python",
   "name": "python3"
  },
  "language_info": {
   "codemirror_mode": {
    "name": "ipython",
    "version": 3
   },
   "file_extension": ".py",
   "mimetype": "text/x-python",
   "name": "python",
   "nbconvert_exporter": "python",
   "pygments_lexer": "ipython3",
   "version": "3.11.5"
  }
 },
 "nbformat": 4,
 "nbformat_minor": 2
}
