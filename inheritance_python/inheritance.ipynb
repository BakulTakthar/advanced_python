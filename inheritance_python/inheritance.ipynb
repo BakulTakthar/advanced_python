{
 "cells": [
  {
   "cell_type": "markdown",
   "metadata": {},
   "source": [
    "# Inheritance in object oriented Python programming\n",
    "## inheritance in python is like linking two objects (or classes to be better in language) is about linking and passing different methods or traits between classes (from parent class to progeny class) like actual inheritence.\n",
    "## for example, labrador, which is a breed of dog will have all the traits of the animal class of dog, that is, it will bark and wiggle its tail when it sees its master."
   ]
  },
  {
   "cell_type": "markdown",
   "metadata": {},
   "source": [
    "### _an example of inheritence is given below_"
   ]
  },
  {
   "cell_type": "code",
   "execution_count": null,
   "metadata": {},
   "outputs": [],
   "source": [
    "class Cow:\n",
    "    def __init__(self):\n",
    "        pass\n",
    "    def cow_go_moo(self):\n",
    "        print(\"moo\")\n"
   ]
  }
 ],
 "metadata": {
  "language_info": {
   "name": "python"
  }
 },
 "nbformat": 4,
 "nbformat_minor": 2
}
