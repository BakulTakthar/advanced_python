{
 "cells": [
  {
   "cell_type": "markdown",
   "metadata": {},
   "source": [
    "# Inheritance in object oriented Python programming\n",
    "## inheritance in python is like linking two objects (or classes to be better in language) is about linking and passing different methods or traits between classes (from parent class to progeny class) like actual inheritence.\n",
    "## for example, labrador, which is a breed of dog will have all the traits of the animal class of dog, that is, it will bark and wiggle its tail when it sees its master."
   ]
  },
  {
   "cell_type": "markdown",
   "metadata": {},
   "source": [
    "### _an example of inheritence is given below_"
   ]
  },
  {
   "cell_type": "code",
   "execution_count": null,
   "metadata": {},
   "outputs": [],
   "source": [
    "class Animal:\n",
    "\n",
    "    def __init__(self, species, hostile, domestic, extinct):\n",
    "        self.species = species\n",
    "        self.hostile = hostile\n",
    "        self.domestic = domestic\n",
    "        self.extinct = extinct\n",
    "\n",
    "    def print_info(self):\n",
    "        print(\n",
    "            f\"\"\"\n",
    "              species name = {self.species}\n",
    "              is hostile = {self.hostile}\n",
    "              can be domesticated = {self.domestic}\n",
    "              is extinct = {self.extinct}\n",
    "              \"\"\"\n",
    "        )\n"
   ]
  },
  {
   "cell_type": "markdown",
   "metadata": {},
   "source": [
    "### here we create a class with the name of _animal_ which containsa some of the important attributes any animal would posess, now if we want to pass on all of these attribues to any object which also happens to be a part of the animal family we use inheritance of objects."
   ]
  },
  {
   "cell_type": "code",
   "execution_count": 8,
   "metadata": {},
   "outputs": [],
   "source": [
    "class Dog(Animal):\n",
    "\n",
    "    def __init__(self, name, age, sub_species):\n",
    "\n",
    "        # *? attributes from the parent class\n",
    "        self.species = \"dog\"\n",
    "        self.extinct = False\n",
    "        self.domestic = True\n",
    "        self.hostile = True\n",
    "\n",
    "        self.name = name\n",
    "        self.age = age\n",
    "        self.sub_species = sub_species\n",
    "\n",
    "    def say_hi(self):\n",
    "        print(f\"name is {self.name} and i am {self.age} years old\")\n"
   ]
  },
  {
   "cell_type": "markdown",
   "metadata": {},
   "source": [
    "### by adding the name of the parent class in the daughter class' parenthesis we are indericty establishing a relation between these two classes. hence, all the objects of the _dog_ class will contain traits of the _animal_ parent class"
   ]
  },
  {
   "cell_type": "code",
   "execution_count": 6,
   "metadata": {},
   "outputs": [
    {
     "name": "stdout",
     "output_type": "stream",
     "text": [
      "\n",
      "              species name = dog\n",
      "              is hostile = True\n",
      "              can be domesticated = True\n",
      "              is extinct = False\n",
      "              \n",
      "name is raamprasad and i am 65 years old\n"
     ]
    }
   ],
   "source": [
    "class Animal:\n",
    "\n",
    "    def __init__(self, species, hostile, domestic, extinct):\n",
    "        self.species = species\n",
    "        self.hostile = hostile\n",
    "        self.domestic = domestic\n",
    "        self.extinct = extinct\n",
    "\n",
    "    def print_info(self):\n",
    "        print(\n",
    "            f\"\"\"\n",
    "              species name = {self.species}\n",
    "              is hostile = {self.hostile}\n",
    "              can be domesticated = {self.domestic}\n",
    "              is extinct = {self.extinct}\n",
    "              \"\"\"\n",
    "        )\n",
    "\n",
    "\n",
    "class Dog(Animal):\n",
    "\n",
    "    def __init__(self, name, age, sub_species):\n",
    "\n",
    "        # *? attributes from the parent class\n",
    "        self.species = \"dog\"\n",
    "        self.extinct = False\n",
    "        self.domestic = True\n",
    "        self.hostile = True\n",
    "\n",
    "        self.name = name\n",
    "        self.age = age\n",
    "        self.sub_species = sub_species\n",
    "\n",
    "    def say_hi(self):\n",
    "        print(f\"name is {self.name} and i am {self.age} years old\")\n",
    "\n",
    "\n",
    "raamprasad = Dog(name=\"raamprasad\", age=65, sub_species=\"indian spitz\")\n",
    "raamprasad.print_info()\n",
    "raamprasad.say_hi()\n"
   ]
  },
  {
   "cell_type": "markdown",
   "metadata": {},
   "source": [
    "#### hence, by passing the required arguments and information we are able to create a link between two objects belonging to different classes and connect them with a link like heridity relations of inheriting traits"
   ]
  },
  {
   "cell_type": "markdown",
   "metadata": {},
   "source": [
    "### lets see calling function inside the class from its parent class"
   ]
  },
  {
   "cell_type": "code",
   "execution_count": 9,
   "metadata": {},
   "outputs": [
    {
     "name": "stdout",
     "output_type": "stream",
     "text": [
      "True\n",
      "\n",
      "              species name = dog\n",
      "              is hostile = True\n",
      "              can be domesticated = True\n",
      "              is extinct = False\n",
      "              \n",
      "name is raamprasad and i am 65 years old\n"
     ]
    }
   ],
   "source": [
    "class Animal:\n",
    "\n",
    "    def __init__(self, species, hostile, domestic, extinct):\n",
    "        self.species = species\n",
    "        self.hostile = hostile\n",
    "        self.domestic = domestic\n",
    "        self.extinct = extinct\n",
    "\n",
    "    def print_info(self):\n",
    "        print(\n",
    "            f\"\"\"\n",
    "              species name = {self.species}\n",
    "              is hostile = {self.hostile}\n",
    "              can be domesticated = {self.domestic}\n",
    "              is extinct = {self.extinct}\n",
    "              \"\"\"\n",
    "        )\n",
    "\n",
    "    def is_animal(self):\n",
    "        print(True)\n",
    "\n",
    "\n",
    "class Dog(Animal):\n",
    "\n",
    "    def __init__(self, name, age, sub_species):\n",
    "\n",
    "        # *? attributes from the parent class\n",
    "        self.species = \"dog\"\n",
    "        self.extinct = False\n",
    "        self.domestic = True\n",
    "        self.hostile = True\n",
    "\n",
    "        self.name = name\n",
    "        self.age = age\n",
    "        self.sub_species = sub_species\n",
    "\n",
    "        Animal.is_animal(self)\n",
    "\n",
    "    def say_hi(self):\n",
    "        print(f\"name is {self.name} and i am {self.age} years old\")\n",
    "\n",
    "\n",
    "raamprasad = Dog(name=\"raamprasad\", age=65, sub_species=\"indian spitz\")\n",
    "raamprasad.print_info()\n",
    "raamprasad.say_hi()\n"
   ]
  },
  {
   "cell_type": "markdown",
   "metadata": {},
   "source": [
    "\n",
    "### hence you can even call functions specified in the parent class by just writing them out"
   ]
  },
  {
   "cell_type": "markdown",
   "metadata": {},
   "source": [
    "## the diamond problem"
   ]
  },
  {
   "cell_type": "code",
   "execution_count": 12,
   "metadata": {},
   "outputs": [
    {
     "name": "stdout",
     "output_type": "stream",
     "text": [
      "A is working\n",
      "B is also working\n",
      "A is working\n",
      "c is also working\n",
      "D is wokring\n"
     ]
    }
   ],
   "source": [
    "class A:\n",
    "    def working(self):\n",
    "        print(\"A is working\")\n",
    "\n",
    "\n",
    "class B(A):\n",
    "    def working(self):\n",
    "        A.working(self)\n",
    "        print(f\"B is also working\")\n",
    "\n",
    "\n",
    "class C(A):\n",
    "    def working(self):\n",
    "        A.working(self)\n",
    "        print(\"c is also working\")\n",
    "\n",
    "\n",
    "class D(B, C):\n",
    "    def working(self):\n",
    "        B.working(self)\n",
    "        C.working(self)\n",
    "        print(\"D is wokring\")\n",
    "\n",
    "\n",
    "d = D()\n",
    "d.working()\n"
   ]
  },
  {
   "cell_type": "markdown",
   "metadata": {},
   "source": [
    "### hence, all the attributes getting called form a diamond like this."
   ]
  },
  {
   "cell_type": "markdown",
   "metadata": {},
   "source": [
    "<img src=\"data:image/png;base64,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\" style=\"cursor:pointer;max-width:100%;\" onclick=\"(function(img){if(img.wnd!=null&&!img.wnd.closed){img.wnd.focus();}else{var r=function(evt){if(evt.data=='ready'&&evt.source==img.wnd){img.wnd.postMessage(decodeURIComponent(img.getAttribute('src')),'*');window.removeEventListener('message',r);}};window.addEventListener('message',r);img.wnd=window.open('https://viewer.diagrams.net/?client=1&page=0&edit=_blank');}})(this);\"/>"
   ]
  }
 ],
 "metadata": {
  "kernelspec": {
   "display_name": "base",
   "language": "python",
   "name": "python3"
  },
  "language_info": {
   "codemirror_mode": {
    "name": "ipython",
    "version": 3
   },
   "file_extension": ".py",
   "mimetype": "text/x-python",
   "name": "python",
   "nbconvert_exporter": "python",
   "pygments_lexer": "ipython3",
   "version": "3.11.5"
  }
 },
 "nbformat": 4,
 "nbformat_minor": 2
}
