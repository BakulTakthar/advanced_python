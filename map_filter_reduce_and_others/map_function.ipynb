{
 "cells": [
  {
   "cell_type": "markdown",
   "metadata": {},
   "source": [
    "# map() in Python\n",
    "#### The Map function is a kind of comprehension done in one line which iterates a given command on a list (it is a very pythonic code) the example of it is given below"
   ]
  },
  {
   "cell_type": "code",
   "execution_count": 2,
   "metadata": {},
   "outputs": [
    {
     "name": "stdout",
     "output_type": "stream",
     "text": [
      "[2, 3, 4, 5, 6]\n"
     ]
    }
   ],
   "source": [
    "# * without the map function\n",
    "example = [1, 2, 3, 4, 5]\n",
    "\n",
    "for i in range(len(example)):\n",
    "    example[i] = example[i] + 1\n",
    "\n",
    "print(example)\n"
   ]
  },
  {
   "cell_type": "code",
   "execution_count": 5,
   "metadata": {},
   "outputs": [
    {
     "name": "stdout",
     "output_type": "stream",
     "text": [
      "[2, 3, 4, 5, 6]\n"
     ]
    }
   ],
   "source": [
    "# * with the map function\n",
    "example = [1, 2, 3, 4, 5]\n",
    "\n",
    "example = map(lambda x: x + 1, example)\n",
    "print(list(example))\n"
   ]
  },
  {
   "cell_type": "code",
   "execution_count": 1,
   "metadata": {},
   "outputs": [
    {
     "name": "stdout",
     "output_type": "stream",
     "text": [
      "[False, False, False, True, True]\n"
     ]
    }
   ],
   "source": [
    "example = [1, 2, 3, 4, 5]\n",
    "example2 = [4, 5]\n",
    "\n",
    "example = map(lambda x: x in example2, example)\n",
    "print(list(example))\n"
   ]
  },
  {
   "cell_type": "code",
   "execution_count": 4,
   "metadata": {},
   "outputs": [
    {
     "name": "stdout",
     "output_type": "stream",
     "text": [
      "[None, None, None, 4, 5]\n"
     ]
    }
   ],
   "source": [
    "example = [1, 2, 3, 4, 5]\n",
    "example2 = [4, 5]\n",
    "\n",
    "example = map(lambda x: x if x in example2 else None, example)\n",
    "print(list(example))\n"
   ]
  },
  {
   "cell_type": "markdown",
   "metadata": {},
   "source": [
    "## understanding map() with concepts of math\n",
    "\n",
    "### when you call map() on a list (this list becomes a domain of this relation)\n",
    "### when we assign this output on a variable (this variable becomes the range)"
   ]
  },
  {
   "cell_type": "markdown",
   "metadata": {},
   "source": [
    "### Q- given an array of names you have to check for the surname \"jaat\" and return \"jai bapppa ki\" in the place of that name in the array. suppose there is another condition where you have to return \"elvish bhai ke aage koi bol sakta hai kya\" in the names which contain \"elvish\" thier first name. check for your code output in uppercase and lowercase.\n",
    "\n",
    "### input = [\"naveen sharma\", \"jaadu yaadv\", \"ankit baniyapuria\", \"sonu jaat\", \"parteek takthar\", \"monu jaat\", \"yadav elvish\" ,  \"hariya jaat\",\"elvish yadav\", \"sonu jaat\", \"jaat lol\", \"bakul,takthar,the, worst, teacher, who gives way to complicated problems in the hw\"]\n",
    "\n",
    "### output = [None, None, None, \"jai bapppa ki\", None , \"jai bapppa ki\", None, \"jai bapppa ki\", None, \"elvish bhai ke aage koi bol sakta hai kya\",\"jai bapppa ki\", \"jai bapppa ki\", None , None ]"
   ]
  },
  {
   "cell_type": "markdown",
   "metadata": {},
   "source": []
  }
 ],
 "metadata": {
  "kernelspec": {
   "display_name": "Python 3 (ipykernel)",
   "language": "python",
   "name": "python3"
  },
  "language_info": {
   "codemirror_mode": {
    "name": "ipython",
    "version": 3
   },
   "file_extension": ".py",
   "mimetype": "text/x-python",
   "name": "python",
   "nbconvert_exporter": "python",
   "pygments_lexer": "ipython3",
   "version": "3.11.5"
  }
 },
 "nbformat": 4,
 "nbformat_minor": 2
}
