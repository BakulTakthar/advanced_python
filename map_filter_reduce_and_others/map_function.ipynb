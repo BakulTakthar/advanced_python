{
 "cells": [
  {
   "cell_type": "markdown",
   "metadata": {},
   "source": [
    "# map() in Python\n",
    "#### The Map function is a kind of comprehension done in one line which iterates a given command on a list (it is a very pythonic code) the example of it is given below"
   ]
  },
  {
   "cell_type": "code",
   "execution_count": 2,
   "metadata": {},
   "outputs": [
    {
     "name": "stdout",
     "output_type": "stream",
     "text": [
      "[2, 3, 4, 5, 6]\n"
     ]
    }
   ],
   "source": [
    "# * without the map function\n",
    "example = [1, 2, 3, 4, 5]\n",
    "\n",
    "for i in range(len(example)):\n",
    "    example[i] = example[i] + 1\n",
    "\n",
    "print(example)\n"
   ]
  },
  {
   "cell_type": "code",
   "execution_count": 5,
   "metadata": {},
   "outputs": [
    {
     "name": "stdout",
     "output_type": "stream",
     "text": [
      "[2, 3, 4, 5, 6]\n"
     ]
    }
   ],
   "source": [
    "# * with the map function\n",
    "example = [1, 2, 3, 4, 5]\n",
    "\n",
    "example = map(lambda x: x + 1, example)\n",
    "print(list(example))\n"
   ]
  },
  {
   "cell_type": "code",
   "execution_count": 1,
   "metadata": {},
   "outputs": [
    {
     "name": "stdout",
     "output_type": "stream",
     "text": [
      "[False, False, False, True, True]\n"
     ]
    }
   ],
   "source": [
    "example = [1, 2, 3, 4, 5]\n",
    "example2 = [4, 5]\n",
    "\n",
    "example = map(lambda x: x in example2, example)\n",
    "print(list(example))\n"
   ]
  },
  {
   "cell_type": "markdown",
   "metadata": {},
   "source": [
    "## understanding map() with concepts of math\n",
    "\n",
    "### when you call map() on a list (this list becomes a domain of this relation)\n",
    "### when we assign this output on a variable (this variable becomes the range)"
   ]
  },
  {
   "cell_type": "code",
   "execution_count": 3,
   "metadata": {},
   "outputs": [
    {
     "name": "stdout",
     "output_type": "stream",
     "text": [
      "[None, None, None, 4, 5]\n"
     ]
    }
   ],
   "source": [
    "example = [1, 2, 3, 4, 5]\n",
    "example2 = [4, 5]\n",
    "\n",
    "example = map(lambda x: x if x in example2 else , example)\n",
    "print(list(example))\n"
   ]
  },
  {
   "cell_type": "code",
   "execution_count": null,
   "metadata": {},
   "outputs": [],
   "source": [
    "lambda x: x if x in example2 else None\n"
   ]
  }
 ],
 "metadata": {
  "kernelspec": {
   "display_name": "Python 3 (ipykernel)",
   "language": "python",
   "name": "python3"
  },
  "language_info": {
   "codemirror_mode": {
    "name": "ipython",
    "version": 3
   },
   "file_extension": ".py",
   "mimetype": "text/x-python",
   "name": "python",
   "nbconvert_exporter": "python",
   "pygments_lexer": "ipython3",
   "version": "3.11.5"
  }
 },
 "nbformat": 4,
 "nbformat_minor": 2
}
