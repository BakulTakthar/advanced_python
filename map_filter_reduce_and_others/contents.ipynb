{
 "cells": [
  {
   "cell_type": "markdown",
   "metadata": {},
   "source": [
    "# CONTENTS\n",
    "- Comprehensions ✅\n",
    "- Collections Module ✅\n",
    "- Map, Filter, zip, reduce ✅\n",
    "- *args and *kwargs\n",
    "- Inheritance\n",
    "- Advanced Class\n",
    "- Behaviour\n",
    "- PIP\n",
    "- Environments (conda, venv, dockr)\n",
    "- Module Creation\n",
    "- Async IO"
   ]
  }
 ],
 "metadata": {
  "language_info": {
   "name": "python"
  }
 },
 "nbformat": 4,
 "nbformat_minor": 2
}
