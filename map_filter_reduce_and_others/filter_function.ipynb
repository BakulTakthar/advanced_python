{
 "cells": [
  {
   "cell_type": "markdown",
   "metadata": {},
   "source": [
    "# filter() FUNCTION IN PYTHON\n",
    "\n",
    "#### used to filter out results of a sequence with respect to desired comditions and values."
   ]
  },
  {
   "cell_type": "code",
   "execution_count": 6,
   "metadata": {},
   "outputs": [
    {
     "name": "stdout",
     "output_type": "stream",
     "text": [
      "['a', 'e']\n"
     ]
    }
   ],
   "source": [
    "# USING THE MAP FUNCTION\n",
    "\n",
    "array = ['a', 'e', 'i', 'o', 'u']\n",
    "\n",
    "alphabets = ['a', 'b', 'c', 'd', 'e']\n",
    "\n",
    "result = filter(lambda x: x in array, alphabets)\n",
    "print(list(result))"
   ]
  },
  {
   "cell_type": "code",
   "execution_count": 7,
   "metadata": {},
   "outputs": [
    {
     "name": "stdout",
     "output_type": "stream",
     "text": [
      "['a', 'e']\n"
     ]
    }
   ],
   "source": [
    "# without using the map function\n",
    "\n",
    "result = []\n",
    "for x in alphabets:\n",
    "    if x in array:\n",
    "        result.append(x)\n",
    "        \n",
    "print(result)"
   ]
  },
  {
   "cell_type": "markdown",
   "metadata": {},
   "source": [
    "#### hence, the filter() functions makes it easy for us to do basic sorting and filtering on objects whhich are iterable in a single line using simple instructions such as lambdas and one liners making our code very _\"pythonic\"_"
   ]
  },
  {
   "cell_type": "code",
   "execution_count": 10,
   "metadata": {},
   "outputs": [
    {
     "name": "stdout",
     "output_type": "stream",
     "text": [
      "[1, 3, 5, 7, 9]\n",
      "[1, 3, 5, 7, 9]\n"
     ]
    }
   ],
   "source": [
    "# example with a pre made function employed in the in line filter() method\n",
    "\n",
    "def is_odd(var):\n",
    "    if var % 2 != 0:\n",
    "        return var\n",
    "    \n",
    "numbers = [1, 2, 3, 4, 5, 6, 7, 8, 9, 10]\n",
    "\n",
    "print(list(filter(lambda x: is_odd(x), numbers)))\n",
    "# calling existing funtions helps by 1) resusability, 2) better code writing, 3) more sophisticated and advnaced functions\n",
    "\n",
    "'''          OR         '''\n",
    "print(list(filter(lambda x: x % 2 != 0, numbers))) # without using the existing function that we made earlier\n"
   ]
  },
  {
   "cell_type": "markdown",
   "metadata": {},
   "source": [
    "##### by using and calling pre made functions we get many advantages such as\n",
    "###### 1) resuability\n",
    "###### 2) better code writing\n",
    "###### 3) more sophisticated and advanced functions"
   ]
  }
 ],
 "metadata": {
  "kernelspec": {
   "display_name": "base",
   "language": "python",
   "name": "python3"
  },
  "language_info": {
   "codemirror_mode": {
    "name": "ipython",
    "version": 3
   },
   "file_extension": ".py",
   "mimetype": "text/x-python",
   "name": "python",
   "nbconvert_exporter": "python",
   "pygments_lexer": "ipython3",
   "version": "3.11.5"
  }
 },
 "nbformat": 4,
 "nbformat_minor": 2
}
