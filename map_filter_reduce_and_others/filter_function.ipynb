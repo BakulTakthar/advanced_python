{
 "cells": [
  {
   "cell_type": "markdown",
   "metadata": {},
   "source": [
    "# filter() FUNCTION IN PYTHON\n",
    "\n",
    "#### used to filter out results of a sequence with respect to desired comditions and values."
   ]
  },
  {
   "cell_type": "markdown",
   "metadata": {},
   "source": [
    "task = print the elemnts which are common in two given lists\n",
    "\n",
    "l1 = [1,2,3,4,5,6,7]\n",
    "l2 = [3,6,4,2,6,9,1,0]"
   ]
  },
  {
   "cell_type": "markdown",
   "metadata": {},
   "source": [
    "iterate over all elemnets of l1\n",
    "    if the specifif element exists in l2 as well\n",
    "        append that in the new list\n",
    "\n",
    "print the output"
   ]
  },
  {
   "cell_type": "markdown",
   "metadata": {},
   "source": [
    "# Without filter"
   ]
  },
  {
   "cell_type": "code",
   "execution_count": 2,
   "metadata": {},
   "outputs": [
    {
     "name": "stdout",
     "output_type": "stream",
     "text": [
      "[1, 2, 3, 4, 6]\n"
     ]
    }
   ],
   "source": [
    "l1 = [1,2,3,4,5,6,7] # universal set (we have to check from this list)\n",
    "l2 = [3,6,4,2,6,9,1,0] # tareget set (we have to check in this)\n",
    "\n",
    "l3 = []\n",
    "\n",
    "for i in l1:\n",
    "    if i in l2:\n",
    "        l3.append(i)\n",
    "        \n",
    "print(l3)"
   ]
  },
  {
   "cell_type": "markdown",
   "metadata": {},
   "source": [
    "# With filter"
   ]
  },
  {
   "cell_type": "code",
   "execution_count": 4,
   "metadata": {},
   "outputs": [
    {
     "name": "stdout",
     "output_type": "stream",
     "text": [
      "[1, 2, 3, 4, 6]\n"
     ]
    }
   ],
   "source": [
    "l3 = list(filter(lambda x: x in l2, l1)) # l1, l2\n",
    "print(l3)"
   ]
  },
  {
   "cell_type": "markdown",
   "metadata": {},
   "source": [
    "#### hence, the filter() functions makes it easy for us to do basic sorting and filtering on objects whhich are iterable in a single line using simple instructions such as lambdas and one liners making our code very _\"pythonic\"_"
   ]
  },
  {
   "cell_type": "code",
   "execution_count": 10,
   "metadata": {},
   "outputs": [
    {
     "name": "stdout",
     "output_type": "stream",
     "text": [
      "[1, 3, 5, 7, 9]\n",
      "[1, 3, 5, 7, 9]\n"
     ]
    }
   ],
   "source": [
    "# example with a pre made function employed in the in line filter() method\n",
    "\n",
    "def is_odd(var):\n",
    "    if var % 2 != 0:\n",
    "        return var\n",
    "    \n",
    "numbers = [1, 2, 3, 4, 5, 6, 7, 8, 9, 10]\n",
    "\n",
    "print(list(filter(lambda x: is_odd(x), numbers)))\n",
    "# calling existing funtions helps by 1) resusability, 2) better code writing, 3) more sophisticated and advnaced functions\n",
    "\n",
    "'''          OR         '''\n",
    "print(list(filter(lambda x: x % 2 != 0, numbers))) # without using the existing function that we made earlier\n"
   ]
  },
  {
   "cell_type": "markdown",
   "metadata": {},
   "source": [
    "##### by using and calling pre made functions we get many advantages such as\n",
    "###### 1) resuability\n",
    "###### 2) better code writing\n",
    "###### 3) more sophisticated and advanced functions"
   ]
  }
 ],
 "metadata": {
  "kernelspec": {
   "display_name": "Python 3 (ipykernel)",
   "language": "python",
   "name": "python3"
  },
  "language_info": {
   "codemirror_mode": {
    "name": "ipython",
    "version": 3
   },
   "file_extension": ".py",
   "mimetype": "text/x-python",
   "name": "python",
   "nbconvert_exporter": "python",
   "pygments_lexer": "ipython3",
   "version": "3.11.5"
  }
 },
 "nbformat": 4,
 "nbformat_minor": 2
}
