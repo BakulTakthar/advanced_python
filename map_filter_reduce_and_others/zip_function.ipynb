{
 "cells": [
  {
   "cell_type": "markdown",
   "metadata": {},
   "source": [
    "# zip() in python\n",
    "### zip() can be really helpful in merging two collection objects togther into a new object of key-value pairs"
   ]
  },
  {
   "cell_type": "code",
   "execution_count": 4,
   "metadata": {},
   "outputs": [
    {
     "name": "stdout",
     "output_type": "stream",
     "text": [
      "[('sanjeev', 1), ('rajeev', 2), ('nirmal', 3), ('prateek', 4)]\n"
     ]
    }
   ],
   "source": [
    "# example 1\n",
    "from importlib.abc import ResourceLoader\n",
    "\n",
    "\n",
    "students = ['sanjeev', 'rajeev', 'nirmal', 'prateek']\n",
    "roll_numbers = [1,2,3,4,5,6,7]\n",
    "\n",
    "result = list(zip(students, roll_numbers))\n",
    "print(result)"
   ]
  },
  {
   "cell_type": "markdown",
   "metadata": {},
   "source": [
    "### as it is seen that is automatically assigns key-value pairs according to the values in the two lists and gives a pretty good result for generating data"
   ]
  },
  {
   "cell_type": "code",
   "execution_count": 2,
   "metadata": {},
   "outputs": [
    {
     "name": "stdout",
     "output_type": "stream",
     "text": [
      "[('sanjeev', 1, 5), ('rajeev', 2, 6), ('nirmal', 3, 7), ('prateek', 4, 8)]\n"
     ]
    }
   ],
   "source": [
    "class_ = [5,6,7,8,9]\n",
    "result2 = list(zip(students, roll_numbers, class_))\n",
    "print(result2)\n"
   ]
  },
  {
   "cell_type": "markdown",
   "metadata": {},
   "source": [
    "### it can also generate outputs for tuples containing zips of more than two lists (tuples in a list containing more than 2 elements)"
   ]
  },
  {
   "cell_type": "code",
   "execution_count": 5,
   "metadata": {},
   "outputs": [
    {
     "name": "stdout",
     "output_type": "stream",
     "text": [
      "{'sanjeev': 1, 'rajeev': 2, 'nirmal': 3, 'prateek': 4}\n"
     ]
    }
   ],
   "source": [
    "print(dict(result))\n"
   ]
  },
  {
   "cell_type": "markdown",
   "metadata": {},
   "source": [
    "#### result variable had a key-value pair so it was suitable to be converted and outputted as a dictionary"
   ]
  },
  {
   "cell_type": "markdown",
   "metadata": {},
   "source": []
  }
 ],
 "metadata": {
  "kernelspec": {
   "display_name": "base",
   "language": "python",
   "name": "python3"
  },
  "language_info": {
   "codemirror_mode": {
    "name": "ipython",
    "version": 3
   },
   "file_extension": ".py",
   "mimetype": "text/x-python",
   "name": "python",
   "nbconvert_exporter": "python",
   "pygments_lexer": "ipython3",
   "version": "3.11.5"
  }
 },
 "nbformat": 4,
 "nbformat_minor": 2
}
