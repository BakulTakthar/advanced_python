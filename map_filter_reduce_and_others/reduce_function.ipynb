{
 "cells": [
  {
   "cell_type": "markdown",
   "metadata": {},
   "source": [
    "# reduce() in python\n",
    "#### the reduce function is used to do operations in a list with a single line function with appropritate functions and iterables"
   ]
  },
  {
   "cell_type": "code",
   "execution_count": 1,
   "metadata": {},
   "outputs": [
    {
     "name": "stdout",
     "output_type": "stream",
     "text": [
      "the sum of the entire list in 49\n"
     ]
    }
   ],
   "source": [
    "import functools\n",
    "list = [4,5,8,5,5,4,1,2,1,5,5,4,]\n",
    "print(f\"the sum of the entire list in {functools.reduce(lambda x,y: x+y, list)}\")\n"
   ]
  },
  {
   "cell_type": "code",
   "execution_count": 2,
   "metadata": {},
   "outputs": [
    {
     "name": "stdout",
     "output_type": "stream",
     "text": [
      "the largest element in the list is 8\n"
     ]
    }
   ],
   "source": [
    "print(f\"the largest element in the list is {functools.reduce(lambda x,y: x if x>y\n",
    "                                                                            else y, list)}\")\n"
   ]
  },
  {
   "cell_type": "code",
   "execution_count": null,
   "metadata": {},
   "outputs": [],
   "source": []
  }
 ],
 "metadata": {
  "kernelspec": {
   "display_name": "base",
   "language": "python",
   "name": "python3"
  },
  "language_info": {
   "codemirror_mode": {
    "name": "ipython",
    "version": 3
   },
   "file_extension": ".py",
   "mimetype": "text/x-python",
   "name": "python",
   "nbconvert_exporter": "python",
   "pygments_lexer": "ipython3",
   "version": "3.11.5"
  }
 },
 "nbformat": 4,
 "nbformat_minor": 2
}
