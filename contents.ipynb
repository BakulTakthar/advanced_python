{
 "cells": [
  {
   "cell_type": "markdown",
   "metadata": {},
   "source": [
    "# CONTENTS\n",
    "## INTERMEDIATE\n",
    "    - Comprehensions ✅\n",
    "    - Collections Module ✅\n",
    "    - Map, Filter, zip, reduce ✅\n",
    "    - *args and *kwargs ✅\n",
    "    - Inheritance ✅\n",
    "    - Advanced Class\n",
    "        - magic methods ✅\n",
    "        -classmethods/ staticmethods \n",
    "    - Behaviour\n",
    "    - PIP\n",
    "    - Environments (conda, venv, dockr)\n",
    "    - Module Creation\n",
    "    - Async IO\n",
    "\n",
    "## ADVANCED\n",
    "    - decorators\n",
    "    - Generators\n",
    "    - Context Managers\n",
    "    - metaclasses\n",
    "    - Concurrency\n",
    "    - Parallelism\n",
    "    - Testing\n",
    "    - Packages\n",
    "    - Cython\n"
   ]
  }
 ],
 "metadata": {
  "language_info": {
   "name": "python"
  }
 },
 "nbformat": 4,
 "nbformat_minor": 2
}
