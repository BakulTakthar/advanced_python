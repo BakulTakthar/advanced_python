{
 "cells": [
  {
   "cell_type": "markdown",
   "metadata": {},
   "source": [
    "# Magic/Dunder methods are the methods which are declared by using two consecutive double underscores __ with the start and end of the method.\n",
    "\n",
    "## some examples of dunder methods are_\n",
    "#### -  `__init__`"
   ]
  },
  {
   "cell_type": "code",
   "execution_count": 10,
   "metadata": {},
   "outputs": [
    {
     "name": "stdout",
     "output_type": "stream",
     "text": [
      "1î + 2ĵ + 3k̂\n",
      "3î + 4ĵ + 5k̂\n",
      "4î + 6ĵ + 8k̂\n",
      "<bound method Vector.mod of 4î + 6ĵ + 8k̂>\n",
      "4\n",
      " i am a vector and my current state is 4î + 6ĵ + 8k̂\n"
     ]
    }
   ],
   "source": [
    "class Vector:\n",
    "    def __init__(self, x, y, z):\n",
    "        self.x = x\n",
    "        self.y = y\n",
    "        self.z = z\n",
    "\n",
    "    def __add__(self, other):\n",
    "        return Vector(self.x + other.x, self.y + other.y, self.z + other.z)\n",
    "\n",
    "    def mod(self):\n",
    "        self.mod = ((self.x) ** 2 + (self.y) ** 2 + (self.z) ** 2) ** 0.5\n",
    "\n",
    "    # def print_vector(self):\n",
    "    #     print(f\"{self.x}î + {self.y}ĵ + {self.z}k̂\")\n",
    "\n",
    "    # ? we can do this representation thing with a dunder method as well\n",
    "\n",
    "    def __repr__(self):\n",
    "        self.repr = f\"{self.x}î + {self.y}ĵ + {self.z}k̂\"\n",
    "        return self.repr\n",
    "\n",
    "    def __call__(self):\n",
    "        print(f\" i am a vector and my current state is {self.repr}\")\n",
    "\n",
    "\n",
    "v1 = Vector(1, 2, 3)\n",
    "v2 = Vector(3, 4, 5)\n",
    "print(v1)\n",
    "print(v2)\n",
    "\n",
    "v3 = v1 + v2\n",
    "print(v3)\n",
    "print(v3.mod)\n",
    "print(v3.x)\n",
    "v3()\n"
   ]
  },
  {
   "cell_type": "markdown",
   "metadata": {},
   "source": [
    "### now that you have seen all of them in action, its time to look at each one of them individually"
   ]
  },
  {
   "cell_type": "markdown",
   "metadata": {},
   "source": [
    "## the __init__ magic method\n",
    "### init or _initialise_ is executes at the very instant the object is created and the code is ran, it is used to make some functions or execute some tasks which require the execution at the very start to _initialise_ the working of all the methods in the class.\n"
   ]
  },
  {
   "cell_type": "code",
   "execution_count": 8,
   "metadata": {},
   "outputs": [
    {
     "name": "stdout",
     "output_type": "stream",
     "text": [
      "(['r', 'j', 'h', 'g', 'f', 'd'],)\n"
     ]
    }
   ],
   "source": [
    "class Institute:\n",
    "    def __init__(self, *teachers):\n",
    "        # self.strength = strength\n",
    "        self.teachers = teachers\n",
    "        print(\"welcome to our school\")\n",
    "\n",
    "    def show_teachers(self):\n",
    "        print(f\"our esteemed and qualified teachers are {self.teachers}\")\n",
    "\n",
    "\n",
    "school1 = Institute(input(\">\").split(\",\"))\n",
    "school1.show_teachers()\n"
   ]
  },
  {
   "cell_type": "code",
   "execution_count": 1,
   "metadata": {},
   "outputs": [
    {
     "name": "stdout",
     "output_type": "stream",
     "text": [
      "Sheldon Lee Cooper and Leonard Hofstadter have a combined iq of 360\n",
      "girls outsmarted Sheldon and Leonard\n"
     ]
    }
   ],
   "source": [
    "class BBTcharacter:\n",
    "    def __init__(self, name, iq):\n",
    "        self.iq = iq\n",
    "        self.name = name\n",
    "\n",
    "    def __add__(self, other):\n",
    "        return (\n",
    "            f\"{self.name} and {other.name} have a combined iq of {self.iq + other.iq}\"\n",
    "        )\n",
    "\n",
    "\n",
    "sheldon_lee_cooper = BBTcharacter(\"Sheldon Lee Cooper\", 187)\n",
    "Leonard_Hofstadter = BBTcharacter(\"Leonard Hofstadter\", 173)\n",
    "\n",
    "print(sheldon_lee_cooper + Leonard_Hofstadter)\n",
    "\n",
    "girl1 = BBTcharacter(\"girl one\", 200)\n",
    "girl2 = BBTcharacter(\"girl two\", 190)\n",
    "\n",
    "if (girl1 + girl2) > (sheldon_lee_cooper + Leonard_Hofstadter):\n",
    "    print(\"girls outsmarted Sheldon and Leonard\")\n"
   ]
  },
  {
   "cell_type": "code",
   "execution_count": null,
   "metadata": {},
   "outputs": [],
   "source": []
  }
 ],
 "metadata": {
  "kernelspec": {
   "display_name": "base",
   "language": "python",
   "name": "python3"
  },
  "language_info": {
   "codemirror_mode": {
    "name": "ipython",
    "version": 3
   },
   "file_extension": ".py",
   "mimetype": "text/x-python",
   "name": "python",
   "nbconvert_exporter": "python",
   "pygments_lexer": "ipython3",
   "version": "3.11.5"
  }
 },
 "nbformat": 4,
 "nbformat_minor": 2
}
