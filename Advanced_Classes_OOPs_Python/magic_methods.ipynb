{
 "cells": [
  {
   "cell_type": "markdown",
   "metadata": {},
   "source": [
    "# Magic/Dunder methods are the methods which are declared by using two consecutive double underscores __ with the start and end of the method.\n",
    "\n",
    "## some examples of dunder methods are_\n",
    "#### -  `__init__`"
   ]
  },
  {
   "cell_type": "code",
   "execution_count": 17,
   "metadata": {},
   "outputs": [
    {
     "name": "stdout",
     "output_type": "stream",
     "text": [
      "1î + 2ĵ + 3k̂\n",
      "3î + 4ĵ + 5k̂\n",
      "<bound method Vector.__mod__ of 4î + 6ĵ + 8k̂>\n"
     ]
    }
   ],
   "source": [
    "class Vector:\n",
    "    def __init__(self, x, y, z):\n",
    "        self.x = x\n",
    "        self.y = y\n",
    "        self.z = z\n",
    "\n",
    "    def __add__(self, other):\n",
    "        return Vector(self.x + other.x, self.y + other.y, self.z + other.z)\n",
    "\n",
    "    def __mod__(self):\n",
    "        self.mod = ((self.x) ** 2 + (self.y) ** 2 + (self.z) ** 2) ** 0.5\n",
    "\n",
    "    # def print_vector(self):\n",
    "    #     print(f\"{self.x}î + {self.y}ĵ + {self.z}k̂\")\n",
    "\n",
    "    # ? we can do this representation thing with a dunder method as well\n",
    "\n",
    "    def __repr__(self):\n",
    "        return f\"{self.x}î + {self.y}ĵ + {self.z}k̂\"\n",
    "\n",
    "\n",
    "v1 = Vector(1, 2, 3)\n",
    "v2 = Vector(3, 4, 5)\n",
    "print(v1)\n",
    "print(v2)\n",
    "\n",
    "v3 = v1 + v2\n",
    "print(v3)\n",
    "print(v3.__mod__)\n"
   ]
  },
  {
   "cell_type": "code",
   "execution_count": null,
   "metadata": {},
   "outputs": [],
   "source": []
  }
 ],
 "metadata": {
  "kernelspec": {
   "display_name": "base",
   "language": "python",
   "name": "python3"
  },
  "language_info": {
   "codemirror_mode": {
    "name": "ipython",
    "version": 3
   },
   "file_extension": ".py",
   "mimetype": "text/x-python",
   "name": "python",
   "nbconvert_exporter": "python",
   "pygments_lexer": "ipython3",
   "version": "3.11.5"
  }
 },
 "nbformat": 4,
 "nbformat_minor": 2
}
