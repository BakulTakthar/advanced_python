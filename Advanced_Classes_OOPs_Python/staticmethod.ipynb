{
 "cells": [
  {
   "cell_type": "markdown",
   "metadata": {},
   "source": [
    "# Staticmethod is Python Objects \n",
    "\n",
    "#### - related to classmethods these methods are not suitable to change the properties or modify the nature of the object creaated within that class\n",
    "#### - static methods are not bound to the class and are independent (they know nothing about thier parent class for that matter)\n",
    "#### - they are used to create utility functions\n",
    "#### - they do not take any implicit argument(like @classmethod takes cls arg and normal ones take self arg)\n",
    "\n",
    "### __illustration__\n",
    "#### lets say we need to create a temporary method for an object that doesnt leave any permanent effect on the object for example create a method for a dog to compute the sum of fractions for its dumb american owner.\n",
    "#### we will not use a normal def function because we simply do not need an implicit function in that class beacuse this function does nothing connected to the object, hence its more beneficial to use staticmethods and keep things clean\n"
   ]
  },
  {
   "cell_type": "code",
   "execution_count": 10,
   "metadata": {},
   "outputs": [
    {
     "name": "stdout",
     "output_type": "stream",
     "text": [
      "1/3\n",
      "5/6\n",
      "dum gigi\n",
      "timmy says woof! woof!\n"
     ]
    }
   ],
   "source": [
    "class Dog:\n",
    "    def __init__(self, name):\n",
    "        self.name = name\n",
    "        \n",
    "    def woof(self):\n",
    "        return f\"{self.name} says woof! woof!\"\n",
    "    \n",
    "    @classmethod\n",
    "    def changename(cls, newname):\n",
    "        cls.name = newname\n",
    "        return newname\n",
    "        \n",
    "    @staticmethod\n",
    "    def teachdumbownerfractions(first_fraction, second_fraction):\n",
    "        list1 = first_fraction.split(\"/\")\n",
    "        list1 = (int(list1[0]), int(list1[1]))\n",
    "        \n",
    "        list2 = second_fraction.split(\"/\")\n",
    "        list2 = (int(list2[0]), int(list2[1]))\n",
    "        \n",
    "        print(second_fraction)\n",
    "        \n",
    "        if list1[1] == list2[1]:\n",
    "            output = f\"{list1[0] + list2[0]}/{list1[1]}\"\n",
    "            return output\n",
    "        \n",
    "        if list1[1] != list2[1]:\n",
    "            output = f\"{(list1[0]*list2[1] + list2[0]*list1[1])}/{list1[1]*list2[1]}\"\n",
    "            return output\n",
    "        \n",
    "timmy = Dog(\"timmy\")\n",
    "print(timmy.teachdumbownerfractions(\"1/2\", \"1/3\"))\n",
    "print(timmy.changename(\"dum gigi\"))\n",
    "print(timmy.woof())\n"
   ]
  },
  {
   "cell_type": "markdown",
   "metadata": {},
   "source": []
  }
 ],
 "metadata": {
  "kernelspec": {
   "display_name": "base",
   "language": "python",
   "name": "python3"
  },
  "language_info": {
   "codemirror_mode": {
    "name": "ipython",
    "version": 3
   },
   "file_extension": ".py",
   "mimetype": "text/x-python",
   "name": "python",
   "nbconvert_exporter": "python",
   "pygments_lexer": "ipython3",
   "version": "3.11.5"
  }
 },
 "nbformat": 4,
 "nbformat_minor": 2
}
