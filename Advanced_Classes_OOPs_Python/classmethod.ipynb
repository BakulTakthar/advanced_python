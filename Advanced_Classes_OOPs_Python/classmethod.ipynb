{
 "cells": [
  {
   "cell_type": "markdown",
   "metadata": {},
   "source": [
    "# classmethods in python objects/classes\n",
    "\n",
    "### - classmethod is useful when you need to modify the contents or behavioiurs of a class as static (normal) methods are unable to do that\n",
    "### - they must have a parameter to work on\n",
    "### - you must add @classmethod decorator before implementing the classmethod"
   ]
  },
  {
   "cell_type": "markdown",
   "metadata": {},
   "source": []
  }
 ],
 "metadata": {
  "language_info": {
   "name": "python"
  }
 },
 "nbformat": 4,
 "nbformat_minor": 2
}
