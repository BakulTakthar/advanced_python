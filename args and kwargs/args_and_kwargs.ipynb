{
 "cells": [
  {
   "cell_type": "markdown",
   "metadata": {},
   "source": [
    "# *args and *kwargs in python\n",
    "### wildcard notation = using special symbols in the notation such as the _asterik_ *\n",
    "\n",
    "\n",
    "\n",
    "\n"
   ]
  },
  {
   "cell_type": "markdown",
   "metadata": {},
   "source": [
    "## __*args__"
   ]
  },
  {
   "cell_type": "markdown",
   "metadata": {},
   "source": [
    "### __*args__  is used when we are not sure about the number of arguments the function is supposed to take. By adding the asterik we can define an iterable object(immutable in nature) than can store all the given arguments to be stored and used according to the default or specified conditions.\n",
    "\n",
    "### EG- `def test(*arguments)` will create an iterable object(immutable in nature) which can be accessed by the identifier _arguments_"
   ]
  },
  {
   "cell_type": "markdown",
   "metadata": {},
   "source": [
    "## `args are in form a tuple`"
   ]
  },
  {
   "cell_type": "code",
   "execution_count": 7,
   "metadata": {},
   "outputs": [
    {
     "name": "stdout",
     "output_type": "stream",
     "text": [
      "args no 1 and the argument is bakul\n",
      "args no 2 and the argument is bhumi\n",
      "args no 3 and the argument is manthan\n"
     ]
    }
   ],
   "source": [
    "def count_print_arg(*args):\n",
    "    for i in range(len(args)):\n",
    "        print(f\"args no {i+1} and the argument is {args[i]}\")\n",
    "   \n",
    "count_print_arg(\"bakul\", \"bhumi\", \"manthan\")\n"
   ]
  },
  {
   "cell_type": "markdown",
   "metadata": {},
   "source": [
    "#### `RETHINK WHAT YOU SAW` as you can you see in the above example snippet we were able to iterate over all the arguments given to our function using the wildcard notation on the identifier and access all its contents"
   ]
  },
  {
   "cell_type": "markdown",
   "metadata": {},
   "source": [
    "`NOTE`- arguments having *args can also take specified arguments "
   ]
  },
  {
   "cell_type": "code",
   "execution_count": 8,
   "metadata": {},
   "outputs": [
    {
     "name": "stdout",
     "output_type": "stream",
     "text": [
      "the user by the name of bakul has been to vaishno devi mandir\n",
      "the user by the name of bakul has been to amritsar\n",
      "the user by the name of bakul has been to naintaal\n",
      "the user by the name of bakul has been to haridwar\n",
      "he has been to ('vaishno devi mandir', 'amritsar', 'naintaal', 'haridwar')\n"
     ]
    }
   ],
   "source": [
    "def example(name_of_user, *places_user_has_been_to):\n",
    "    for place in places_user_has_been_to:\n",
    "        print(f\"the user by the name of {name_of_user} has been to {place}\")\n",
    "        \n",
    "    '''or'''\n",
    "    print(f\"he has been to {places_user_has_been_to}\")\n",
    "example(\"bakul\", \"vaishno devi mandir\", \"amritsar\", \"naintaal\", \"haridwar\")\n"
   ]
  },
  {
   "cell_type": "markdown",
   "metadata": {},
   "source": [
    "the function, upon execution follows the default way of taking the first given argument as specified by upon creation\n",
    "\n",
    "\n",
    "_if we were to flip this what happens?_"
   ]
  },
  {
   "cell_type": "code",
   "execution_count": 11,
   "metadata": {},
   "outputs": [
    {
     "ename": "TypeError",
     "evalue": "example() missing 1 required keyword-only argument: 'name_of_user'",
     "output_type": "error",
     "traceback": [
      "\u001b[1;31m---------------------------------------------------------------------------\u001b[0m",
      "\u001b[1;31mTypeError\u001b[0m                                 Traceback (most recent call last)",
      "Cell \u001b[1;32mIn[11], line 7\u001b[0m\n\u001b[0;32m      5\u001b[0m \u001b[38;5;250m    \u001b[39m\u001b[38;5;124;03m'''or'''\u001b[39;00m\n\u001b[0;32m      6\u001b[0m     \u001b[38;5;28mprint\u001b[39m(\u001b[38;5;124mf\u001b[39m\u001b[38;5;124m\"\u001b[39m\u001b[38;5;124mhe has been to \u001b[39m\u001b[38;5;132;01m{\u001b[39;00mplaces_user_has_been_to\u001b[38;5;132;01m}\u001b[39;00m\u001b[38;5;124m\"\u001b[39m)\n\u001b[1;32m----> 7\u001b[0m example(\u001b[38;5;124m\"\u001b[39m\u001b[38;5;124mbakul\u001b[39m\u001b[38;5;124m\"\u001b[39m, \u001b[38;5;124m\"\u001b[39m\u001b[38;5;124mvaishno devi mandir\u001b[39m\u001b[38;5;124m\"\u001b[39m, \u001b[38;5;124m\"\u001b[39m\u001b[38;5;124mamritsar\u001b[39m\u001b[38;5;124m\"\u001b[39m, \u001b[38;5;124m\"\u001b[39m\u001b[38;5;124mnaintaal\u001b[39m\u001b[38;5;124m\"\u001b[39m, \u001b[38;5;124m\"\u001b[39m\u001b[38;5;124mharidwar\u001b[39m\u001b[38;5;124m\"\u001b[39m)\n",
      "\u001b[1;31mTypeError\u001b[0m: example() missing 1 required keyword-only argument: 'name_of_user'"
     ]
    }
   ],
   "source": [
    "def example(*places_user_has_been_to, name_of_user):\n",
    "    for place in places_user_has_been_to:\n",
    "        print(f\"the user by the name of {name_of_user} has been to {place}\")\n",
    "        \n",
    "    '''or'''\n",
    "    print(f\"he has been to {places_user_has_been_to}\")\n",
    "example(\"bakul\", \"vaishno devi mandir\", \"amritsar\", \"naintaal\", \"haridwar\")\n"
   ]
  },
  {
   "cell_type": "markdown",
   "metadata": {},
   "source": [
    "we get an error because the argument needed for name_of_user cannot be iterable and thus, we are not able to make it work by spilitting it as well"
   ]
  },
  {
   "cell_type": "markdown",
   "metadata": {},
   "source": [
    "python was able to do that in the first run because it was able to make the rest of the arguments iterable by first taking the name_of_user out for itself... but in this case when we flipped the names it by default took and made all of them iterable because the *places_user.... was mentioned first and the name_of_user was left with nothing \n",
    "\n",
    "\n",
    "to fix this-"
   ]
  },
  {
   "cell_type": "code",
   "execution_count": 12,
   "metadata": {},
   "outputs": [
    {
     "name": "stdout",
     "output_type": "stream",
     "text": [
      "the user by the name of bakul has been to vaishno devi mandir\n",
      "the user by the name of bakul has been to amritsar\n",
      "the user by the name of bakul has been to naintaal\n",
      "the user by the name of bakul has been to haridwar\n",
      "he has been to ('vaishno devi mandir', 'amritsar', 'naintaal', 'haridwar')\n"
     ]
    }
   ],
   "source": [
    "\n",
    "def example(*places_user_has_been_to, name_of_user):\n",
    "    for place in places_user_has_been_to:\n",
    "        print(f\"the user by the name of {name_of_user} has been to {place}\")\n",
    "        \n",
    "    '''or'''\n",
    "    print(f\"he has been to {places_user_has_been_to}\")\n",
    "example(\"vaishno devi mandir\", \"amritsar\", \"naintaal\", \"haridwar\", name_of_user=\"bakul\")\n"
   ]
  },
  {
   "cell_type": "markdown",
   "metadata": {},
   "source": [
    "hence by specifying the arguments we are able to solve this issue"
   ]
  },
  {
   "cell_type": "markdown",
   "metadata": {},
   "source": [
    "### thus, *args end.....\n"
   ]
  },
  {
   "cell_type": "markdown",
   "metadata": {},
   "source": [
    "## __**kwargs__"
   ]
  },
  {
   "cell_type": "markdown",
   "metadata": {},
   "source": [
    "### __**kwargs__ or keyword-args are used as normal iterable *args but having been passed with a keyword `iterable arguments but with a specified keyword` hence, **kwargs are used to have multiple args but with a keyword as well.\n",
    "\n",
    "### ** notation is for making a seperate object containing the keyword args to seperate out keywords and non keywords (**kwargs and *args)"
   ]
  },
  {
   "cell_type": "markdown",
   "metadata": {},
   "source": [
    "### `**kwargs is in the form of an iterable object in the form a dictionary where keyword = key and value = value`"
   ]
  },
  {
   "cell_type": "code",
   "execution_count": 5,
   "metadata": {},
   "outputs": [
    {
     "name": "stdout",
     "output_type": "stream",
     "text": [
      "dad is sanjeev\n",
      "mom is anita\n",
      "bhai is prateek\n",
      "chotu is bakul\n"
     ]
    }
   ],
   "source": [
    "def family(**kwargs):\n",
    "    for key, value in kwargs.items():\n",
    "        print(f\"{key} is {value}\")\n",
    "\n",
    "family(dad=\"sanjeev\", mom=\"anita\", bhai=\"prateek\", chotu=\"bakul\")\n"
   ]
  },
  {
   "cell_type": "markdown",
   "metadata": {},
   "source": [
    "an example of using kwargs and args is given below"
   ]
  },
  {
   "cell_type": "code",
   "execution_count": 8,
   "metadata": {},
   "outputs": [
    {
     "name": "stdout",
     "output_type": "stream",
     "text": [
      "1 type = suv cost = 1300000\n",
      "2 type = suv cost = 1300000\n",
      "3 type = suv cost = 1300000\n"
     ]
    }
   ],
   "source": [
    "class AutoExpo():\n",
    "    \n",
    "    def __init__(self, *serial_num, **model):\n",
    "        self.serial_num = serial_num\n",
    "        self.type = model['type']\n",
    "        self.price = model['price']\n",
    "        \n",
    "    def show_cars(self):\n",
    "        for num in self.serial_num:\n",
    "            print(f\"{num} type = {self.type} cost = {self.price}\")\n",
    "            \n",
    "mercedes = AutoExpo(1,2,3, type='suv',price=1300000)\n",
    "        \n",
    "mercedes.show_cars()\n"
   ]
  },
  {
   "cell_type": "markdown",
   "metadata": {},
   "source": [
    "make more examples to improve grip"
   ]
  },
  {
   "cell_type": "markdown",
   "metadata": {},
   "source": [
    "thus ends **kwargs"
   ]
  },
  {
   "cell_type": "markdown",
   "metadata": {},
   "source": [
    "#####                                                _fin_"
   ]
  },
  {
   "cell_type": "markdown",
   "metadata": {},
   "source": []
  }
 ],
 "metadata": {
  "kernelspec": {
   "display_name": "base",
   "language": "python",
   "name": "python3"
  },
  "language_info": {
   "codemirror_mode": {
    "name": "ipython",
    "version": 3
   },
   "file_extension": ".py",
   "mimetype": "text/x-python",
   "name": "python",
   "nbconvert_exporter": "python",
   "pygments_lexer": "ipython3",
   "version": "3.11.5"
  }
 },
 "nbformat": 4,
 "nbformat_minor": 2
}
