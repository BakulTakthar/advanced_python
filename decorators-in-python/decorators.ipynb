{
 "cells": [
  {
   "cell_type": "markdown",
   "metadata": {},
   "source": [
    "## functions as first class objects\n",
    "### *first class objects* are the objects which can be passed as or used as arguments to other functions\n",
    "    - A function is an instance of the Object type.\n",
    "    - You can store the function in a variable.\n",
    "    - You can pass the function as a parameter to another function.\n",
    "    - You can return the function from a function.\n",
    "    - You can store them in data structures such as hash tables, lists, …"
   ]
  },
  {
   "cell_type": "markdown",
   "metadata": {},
   "source": [
    "## some important examples to revise the cool shit we can do with functions"
   ]
  },
  {
   "cell_type": "markdown",
   "metadata": {},
   "source": [
    "### treating functions as objects"
   ]
  },
  {
   "cell_type": "code",
   "execution_count": 1,
   "metadata": {},
   "outputs": [
    {
     "name": "stdout",
     "output_type": "stream",
     "text": [
      "i am having fun by doing [<function netflix at 0x0000022E22EB5E40>, <function eat_lays at 0x0000022E2309C0E0>, 'ah shit'] neat aint it?\n"
     ]
    }
   ],
   "source": [
    "def having_fun(*funs):\n",
    "    return f\"i am having fun by doing {[fun for fun in funs]} neat aint it?\"\n",
    "\n",
    "def netflix():\n",
    "    return \"netflix and chill\"\n",
    "\n",
    "def eat_lays():\n",
    "    return \"eating lays\"\n",
    "\n",
    "print(having_fun(netflix, eat_lays, \"ah shit\"))\n"
   ]
  },
  {
   "cell_type": "markdown",
   "metadata": {},
   "source": [
    "### passing functions as arguments"
   ]
  },
  {
   "cell_type": "code",
   "execution_count": 2,
   "metadata": {},
   "outputs": [
    {
     "name": "stdout",
     "output_type": "stream",
     "text": [
      "NAMASTE JI ganda_rishtedaar, JI AIYA NU!!! unenthusiastically\n",
      "NAMASTE JI accha_rishtedaar, JI AIYA NU!!! enthusiastcally\n",
      "NAMASTE JI medium_rishtedaar, JI AIYA NU!!! somewhat enthusiastically\n"
     ]
    }
   ],
   "source": [
    "def say_namaste(type_of_rishtedaar):\n",
    "    return type_of_rishtedaar(f\"NAMASTE JI {type_of_rishtedaar.__name__}, JI AIYA NU!!! \")\n",
    "\n",
    "def ganda_rishtedaar(text):\n",
    "    return text + \"unenthusiastically\"\n",
    "\n",
    "def accha_rishtedaar(text):\n",
    "    return text + \"enthusiastcally\"\n",
    "\n",
    "def medium_rishtedaar(text):\n",
    "    return text + \"somewhat enthusiastically\"\n",
    "\n",
    "chachaji = ganda_rishtedaar\n",
    "\n",
    "mamaji = accha_rishtedaar\n",
    "\n",
    "chachi = medium_rishtedaar\n",
    "\n",
    "print(say_namaste(chachaji))\n",
    "print(say_namaste(mamaji))\n",
    "print(say_namaste(chachi))\n",
    "\n",
    "#TODO: to make a system so that it can say the name of the rishtedaar instead of saying accha/ganda/medium example NAMASTE JI mamaji, JI AIYA NU!!! enthusiastcally\n"
   ]
  },
  {
   "cell_type": "markdown",
   "metadata": {},
   "source": [
    "### giving out functions as outputs\n"
   ]
  },
  {
   "cell_type": "code",
   "execution_count": 3,
   "metadata": {},
   "outputs": [
    {
     "name": "stdout",
     "output_type": "stream",
     "text": [
      "25\n"
     ]
    }
   ],
   "source": [
    "# Python program to illustrate functions \n",
    "# Functions can return another function \n",
    "\n",
    "def create_adder(x): \n",
    "    def adder(y): \n",
    "        return x+y \n",
    "\n",
    "    return adder \n",
    "\n",
    "add_15 = create_adder(15) \n",
    "\n",
    "print(add_15(10)) \n",
    "\n"
   ]
  },
  {
   "cell_type": "code",
   "execution_count": null,
   "metadata": {},
   "outputs": [],
   "source": []
  }
 ],
 "metadata": {
  "kernelspec": {
   "display_name": "base",
   "language": "python",
   "name": "python3"
  },
  "language_info": {
   "codemirror_mode": {
    "name": "ipython",
    "version": 3
   },
   "file_extension": ".py",
   "mimetype": "text/x-python",
   "name": "python",
   "nbconvert_exporter": "python",
   "pygments_lexer": "ipython3",
   "version": "3.12.1"
  }
 },
 "nbformat": 4,
 "nbformat_minor": 2
}
